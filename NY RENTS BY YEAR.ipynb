{
 "cells": [
  {
   "cell_type": "code",
   "execution_count": 9,
   "id": "51c1a4e8",
   "metadata": {},
   "outputs": [
    {
     "data": {
      "text/plain": [
       "(198, 12)"
      ]
     },
     "execution_count": 9,
     "metadata": {},
     "output_type": "execute_result"
    }
   ],
   "source": [
    "import pandas as pd\n",
    "import numpy as np\n",
    "\n",
    "df=pd.read_csv('NY RENTS BY YEAR.csv', na_values=['#DIV/0!'])\n",
    "df.shape"
   ]
  },
  {
   "cell_type": "code",
   "execution_count": 10,
   "id": "dcf3b192",
   "metadata": {},
   "outputs": [
    {
     "data": {
      "text/plain": [
       "areaName     object\n",
       "Borough      object\n",
       "2011        float64\n",
       "2012        float64\n",
       "2013        float64\n",
       "2014        float64\n",
       "2015        float64\n",
       "2016        float64\n",
       "2017        float64\n",
       "2018        float64\n",
       "2019        float64\n",
       "2020        float64\n",
       "dtype: object"
      ]
     },
     "execution_count": 10,
     "metadata": {},
     "output_type": "execute_result"
    }
   ],
   "source": [
    "df.dtypes"
   ]
  },
  {
   "cell_type": "code",
   "execution_count": 11,
   "id": "b3a3daa1",
   "metadata": {},
   "outputs": [
    {
     "data": {
      "text/html": [
       "<div>\n",
       "<style scoped>\n",
       "    .dataframe tbody tr th:only-of-type {\n",
       "        vertical-align: middle;\n",
       "    }\n",
       "\n",
       "    .dataframe tbody tr th {\n",
       "        vertical-align: top;\n",
       "    }\n",
       "\n",
       "    .dataframe thead th {\n",
       "        text-align: right;\n",
       "    }\n",
       "</style>\n",
       "<table border=\"1\" class=\"dataframe\">\n",
       "  <thead>\n",
       "    <tr style=\"text-align: right;\">\n",
       "      <th></th>\n",
       "      <th>2011</th>\n",
       "      <th>2012</th>\n",
       "      <th>2013</th>\n",
       "      <th>2014</th>\n",
       "      <th>2015</th>\n",
       "      <th>2016</th>\n",
       "      <th>2017</th>\n",
       "      <th>2018</th>\n",
       "      <th>2019</th>\n",
       "      <th>2020</th>\n",
       "    </tr>\n",
       "    <tr>\n",
       "      <th>Borough</th>\n",
       "      <th></th>\n",
       "      <th></th>\n",
       "      <th></th>\n",
       "      <th></th>\n",
       "      <th></th>\n",
       "      <th></th>\n",
       "      <th></th>\n",
       "      <th></th>\n",
       "      <th></th>\n",
       "      <th></th>\n",
       "    </tr>\n",
       "  </thead>\n",
       "  <tbody>\n",
       "    <tr>\n",
       "      <th>Bronx</th>\n",
       "      <td>1278.468750</td>\n",
       "      <td>1522.170139</td>\n",
       "      <td>1394.637879</td>\n",
       "      <td>1373.625361</td>\n",
       "      <td>1488.068194</td>\n",
       "      <td>1609.028506</td>\n",
       "      <td>1710.521630</td>\n",
       "      <td>1807.149593</td>\n",
       "      <td>1856.472049</td>\n",
       "      <td>1881.450530</td>\n",
       "    </tr>\n",
       "    <tr>\n",
       "      <th>Brooklyn</th>\n",
       "      <td>2048.538229</td>\n",
       "      <td>2131.771717</td>\n",
       "      <td>2214.548419</td>\n",
       "      <td>2273.742908</td>\n",
       "      <td>2358.358844</td>\n",
       "      <td>2450.278333</td>\n",
       "      <td>2409.754167</td>\n",
       "      <td>2460.756309</td>\n",
       "      <td>2559.607750</td>\n",
       "      <td>2504.674706</td>\n",
       "    </tr>\n",
       "    <tr>\n",
       "      <th>Manhattan</th>\n",
       "      <td>3195.898569</td>\n",
       "      <td>3279.155092</td>\n",
       "      <td>3311.668981</td>\n",
       "      <td>3337.523148</td>\n",
       "      <td>3454.229730</td>\n",
       "      <td>3582.217593</td>\n",
       "      <td>3464.873874</td>\n",
       "      <td>3495.588964</td>\n",
       "      <td>3636.252252</td>\n",
       "      <td>3365.108108</td>\n",
       "    </tr>\n",
       "    <tr>\n",
       "      <th>Queens</th>\n",
       "      <td>1616.859909</td>\n",
       "      <td>1862.972643</td>\n",
       "      <td>1824.371212</td>\n",
       "      <td>1841.410410</td>\n",
       "      <td>1902.979582</td>\n",
       "      <td>1991.138264</td>\n",
       "      <td>2071.030754</td>\n",
       "      <td>2087.562702</td>\n",
       "      <td>2095.836806</td>\n",
       "      <td>2106.852106</td>\n",
       "    </tr>\n",
       "    <tr>\n",
       "      <th>Staten Island</th>\n",
       "      <td>NaN</td>\n",
       "      <td>1562.857143</td>\n",
       "      <td>1614.666667</td>\n",
       "      <td>1652.166667</td>\n",
       "      <td>1690.083333</td>\n",
       "      <td>1988.750000</td>\n",
       "      <td>1927.583333</td>\n",
       "      <td>1884.583333</td>\n",
       "      <td>2018.000000</td>\n",
       "      <td>1946.000000</td>\n",
       "    </tr>\n",
       "  </tbody>\n",
       "</table>\n",
       "</div>"
      ],
      "text/plain": [
       "                      2011         2012         2013         2014  \\\n",
       "Borough                                                             \n",
       "Bronx          1278.468750  1522.170139  1394.637879  1373.625361   \n",
       "Brooklyn       2048.538229  2131.771717  2214.548419  2273.742908   \n",
       "Manhattan      3195.898569  3279.155092  3311.668981  3337.523148   \n",
       "Queens         1616.859909  1862.972643  1824.371212  1841.410410   \n",
       "Staten Island          NaN  1562.857143  1614.666667  1652.166667   \n",
       "\n",
       "                      2015         2016         2017         2018  \\\n",
       "Borough                                                             \n",
       "Bronx          1488.068194  1609.028506  1710.521630  1807.149593   \n",
       "Brooklyn       2358.358844  2450.278333  2409.754167  2460.756309   \n",
       "Manhattan      3454.229730  3582.217593  3464.873874  3495.588964   \n",
       "Queens         1902.979582  1991.138264  2071.030754  2087.562702   \n",
       "Staten Island  1690.083333  1988.750000  1927.583333  1884.583333   \n",
       "\n",
       "                      2019         2020  \n",
       "Borough                                  \n",
       "Bronx          1856.472049  1881.450530  \n",
       "Brooklyn       2559.607750  2504.674706  \n",
       "Manhattan      3636.252252  3365.108108  \n",
       "Queens         2095.836806  2106.852106  \n",
       "Staten Island  2018.000000  1946.000000  "
      ]
     },
     "execution_count": 11,
     "metadata": {},
     "output_type": "execute_result"
    }
   ],
   "source": [
    "df.groupby('Borough').mean()"
   ]
  },
  {
   "cell_type": "code",
   "execution_count": null,
   "id": "03ac84cd",
   "metadata": {},
   "outputs": [],
   "source": []
  }
 ],
 "metadata": {
  "kernelspec": {
   "display_name": "Python 3 (ipykernel)",
   "language": "python",
   "name": "python3"
  },
  "language_info": {
   "codemirror_mode": {
    "name": "ipython",
    "version": 3
   },
   "file_extension": ".py",
   "mimetype": "text/x-python",
   "name": "python",
   "nbconvert_exporter": "python",
   "pygments_lexer": "ipython3",
   "version": "3.10.3"
  }
 },
 "nbformat": 4,
 "nbformat_minor": 5
}
